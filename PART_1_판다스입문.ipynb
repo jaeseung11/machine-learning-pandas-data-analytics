{
  "nbformat": 4,
  "nbformat_minor": 0,
  "metadata": {
    "colab": {
      "provenance": [],
      "authorship_tag": "ABX9TyN6Ieay3DHkSYsy3UWBX2Uf"
    },
    "kernelspec": {
      "name": "python3",
      "display_name": "Python 3"
    },
    "language_info": {
      "name": "python"
    }
  },
  "cells": [
    {
      "cell_type": "markdown",
      "source": [
        "# 판다스 자료구조"
      ],
      "metadata": {
        "id": "BIwFbWF-gAvb"
      }
    },
    {
      "cell_type": "markdown",
      "source": [
        "시리즈-1차원 배열\n",
        "\n",
        "데이터프레임-2차원 배열"
      ],
      "metadata": {
        "id": "cFJXf1s_gP-r"
      }
    },
    {
      "cell_type": "code",
      "execution_count": 1,
      "metadata": {
        "id": "EBhNX_ZQtEaG",
        "colab": {
          "base_uri": "https://localhost:8080/"
        },
        "outputId": "a79525b5-8b05-4eb1-ce75-51bc75bb49aa"
      },
      "outputs": [
        {
          "output_type": "stream",
          "name": "stdout",
          "text": [
            "<class 'pandas.core.series.Series'>\n",
            "\n",
            "\n",
            "a    1\n",
            "b    2\n",
            "c    3\n",
            "dtype: int64\n"
          ]
        }
      ],
      "source": [
        "# pandas 불러오기 \n",
        "import pandas as pd\n",
        "\n",
        "# k:v 구조를 갖는 딕셔너리를 만들고, 변수 dict_data에 저장\n",
        "dict_data = {'a': 1, 'b': 2, 'c': 3}\n",
        "\n",
        "# 판다스 Series() 함수로 딕셔너리(dict_data)를 시리즈로 변환. 변수 sr에 저장 \n",
        "sr = pd.Series(dict_data)\n",
        "\n",
        "# 변수 sr의 자료형 출력\n",
        "print(type(sr))\n",
        "print('\\n')\n",
        "\n",
        "# 변수 sr에 저장되어 있는 시리즈 객체를 출력\n",
        "print(sr)"
      ]
    },
    {
      "cell_type": "code",
      "source": [
        "# 인덱스 배열: Serise객체.index\n",
        "# 데이터 배열: Serise객체.values\n"
      ],
      "metadata": {
        "id": "XlxtgF3BjgTo"
      },
      "execution_count": null,
      "outputs": []
    },
    {
      "cell_type": "code",
      "source": [],
      "metadata": {
        "id": "FA95Kn-alQNs"
      },
      "execution_count": null,
      "outputs": []
    },
    {
      "cell_type": "code",
      "source": [
        "exam_data = {'수학': [90, 80,70], '영어': [98, 89, 95], '음악': [85, 95, 100], '체육' : [100, 90, 90]}\n",
        "\n",
        "df = pd.DataFrame(exam_data, index = ['서준', '우현', '인아'])\n",
        "print(df)\n",
        "print('\\n') # 엔터의 효과다\n",
        "\n",
        "df2 = df[:]\n",
        "df2.drop('우현', inplace=True)  # inplace = False 로 하면 행삭제가 적용이 되지 않는다. \n",
        "print(df2)\n",
        "print('\\n')\n",
        "\n",
        "df3 = df[:] # 여기 슬라이싱은 전부선택이다. \n",
        "df3.drop(['우현', '인아'], inplace=True)  # df3 = df3.drop(['우현', '인아']) 이렇게 입력해도 같다.  다만 앞에 df3 변수를 또 정의을 해주어야 작동이 된다. \n",
        "print(df3)\n",
        "print('\\n')\n"
      ],
      "metadata": {
        "colab": {
          "base_uri": "https://localhost:8080/"
        },
        "id": "9iaKS_Fgta8e",
        "outputId": "30a0a027-c7fc-4bd4-a40d-61df357110e8"
      },
      "execution_count": null,
      "outputs": [
        {
          "output_type": "stream",
          "name": "stdout",
          "text": [
            "    수학  영어   음악   체육\n",
            "서준  90  98   85  100\n",
            "우현  80  89   95   90\n",
            "인아  70  95  100   90\n",
            "\n",
            "\n",
            "    수학  영어   음악   체육\n",
            "서준  90  98   85  100\n",
            "인아  70  95  100   90\n",
            "\n",
            "\n",
            "    수학  영어  음악   체육\n",
            "서준  90  98  85  100\n",
            "\n",
            "\n"
          ]
        },
        {
          "output_type": "stream",
          "name": "stderr",
          "text": [
            "/usr/local/lib/python3.7/dist-packages/pandas/core/frame.py:4913: SettingWithCopyWarning: \n",
            "A value is trying to be set on a copy of a slice from a DataFrame\n",
            "\n",
            "See the caveats in the documentation: https://pandas.pydata.org/pandas-docs/stable/user_guide/indexing.html#returning-a-view-versus-a-copy\n",
            "  errors=errors,\n",
            "/usr/local/lib/python3.7/dist-packages/pandas/core/frame.py:4913: SettingWithCopyWarning: \n",
            "A value is trying to be set on a copy of a slice from a DataFrame\n",
            "\n",
            "See the caveats in the documentation: https://pandas.pydata.org/pandas-docs/stable/user_guide/indexing.html#returning-a-view-versus-a-copy\n",
            "  errors=errors,\n"
          ]
        }
      ]
    },
    {
      "cell_type": "code",
      "source": [
        "exam_data = {'수학': [90, 80,70], '영어': [98, 89, 95], '음악': [85, 95, 100], '체육' : [100, 90, 90]}\n",
        "\n",
        "df = pd.DataFrame(exam_data, index = ['서준', '우현', '인아'])\n",
        "print(df)\n",
        "print('\\n') # 엔터의 효과다\n",
        "\n",
        "df4 = df.copy()  # 복사를 하는 이유는 원본이 변경되기 때문에 원본과 비교 분석하기 위해 쓴다.\n",
        "df4.drop('수학',axis=1, inplace=True)  # inplace = False 로 하면 열삭제가 적용이 되지 않는다. \n",
        "print(df4)\n",
        "print('\\n')\n",
        "\n",
        "df5 = df.copy() # 복사를 하는 이유는 원본이 변경되기 때문에 원본과 비교 분석하기 위해 쓴다.  \n",
        "df5.drop(['영어', '수학'],axis=1, inplace=True)  # df5 = df5.drop(['영어', '수학']) 이렇게 입력하면 열삭제가 작동이 안되. None이 나옴. 그러므로 열삭제에서는 적용이 안되네.\n",
        "print(df5)\n",
        "print('\\n')"
      ],
      "metadata": {
        "colab": {
          "base_uri": "https://localhost:8080/"
        },
        "id": "_ag6GFPT1Es5",
        "outputId": "68c9d4c8-1fc0-4236-cf3f-06dcb004ed1c"
      },
      "execution_count": null,
      "outputs": [
        {
          "output_type": "stream",
          "name": "stdout",
          "text": [
            "    수학  영어   음악   체육\n",
            "서준  90  98   85  100\n",
            "우현  80  89   95   90\n",
            "인아  70  95  100   90\n",
            "\n",
            "\n",
            "    영어   음악   체육\n",
            "서준  98   85  100\n",
            "우현  89   95   90\n",
            "인아  95  100   90\n",
            "\n",
            "\n",
            "     음악   체육\n",
            "서준   85  100\n",
            "우현   95   90\n",
            "인아  100   90\n",
            "\n",
            "\n"
          ]
        }
      ]
    }
  ]
}