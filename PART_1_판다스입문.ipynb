{
  "nbformat": 4,
  "nbformat_minor": 0,
  "metadata": {
    "colab": {
      "provenance": [],
      "authorship_tag": "ABX9TyMPCuxsUqMN2SHHOKRFCNWb"
    },
    "kernelspec": {
      "name": "python3",
      "display_name": "Python 3"
    },
    "language_info": {
      "name": "python"
    }
  },
  "cells": [
    {
      "cell_type": "markdown",
      "source": [
        "# 판다스 자료구조"
      ],
      "metadata": {
        "id": "BIwFbWF-gAvb"
      }
    },
    {
      "cell_type": "markdown",
      "source": [
        "시리즈-1차원 배열\n",
        "\n",
        "데이터프레임-2차원 배열"
      ],
      "metadata": {
        "id": "cFJXf1s_gP-r"
      }
    },
    {
      "cell_type": "code",
      "source": [
        "# pandas 불러오기 \n",
        "import pandas as pd"
      ],
      "metadata": {
        "id": "-QcCQs8cq-o6"
      },
      "execution_count": 10,
      "outputs": []
    },
    {
      "cell_type": "markdown",
      "source": [
        "dict_to_series"
      ],
      "metadata": {
        "id": "CKZw4fQGw69K"
      }
    },
    {
      "cell_type": "code",
      "execution_count": 11,
      "metadata": {
        "id": "EBhNX_ZQtEaG",
        "colab": {
          "base_uri": "https://localhost:8080/"
        },
        "outputId": "fa95dd7f-46c7-4be0-eb93-ee32a39d0230"
      },
      "outputs": [
        {
          "output_type": "stream",
          "name": "stdout",
          "text": [
            "<class 'pandas.core.series.Series'>\n",
            "\n",
            "\n",
            "a    1\n",
            "b    2\n",
            "c    3\n",
            "dtype: int64\n"
          ]
        }
      ],
      "source": [
        "# pandas 불러오기 \n",
        "import pandas as pd\n",
        "\n",
        "# k:v 구조를 갖는 딕셔너리를 만들고, 변수 dict_data에 저장\n",
        "dict_data = {'a': 1, 'b': 2, 'c': 3}\n",
        "\n",
        "# 판다스 Series() 함수로 딕셔너리(dict_data)를 시리즈로 변환. 변수 sr에 저장 \n",
        "sr = pd.Series(dict_data)\n",
        "\n",
        "# 변수 sr의 자료형 출력\n",
        "print(type(sr))\n",
        "print('\\n')\n",
        "\n",
        "# 변수 sr에 저장되어 있는 시리즈 객체를 출력\n",
        "print(sr)"
      ]
    },
    {
      "cell_type": "code",
      "source": [
        "# 인덱스 배열: Serise객체.index\n",
        "# 데이터 배열: Serise객체.values\n"
      ],
      "metadata": {
        "id": "XlxtgF3BjgTo"
      },
      "execution_count": 12,
      "outputs": []
    },
    {
      "cell_type": "markdown",
      "source": [
        "series_index"
      ],
      "metadata": {
        "id": "qIHlxmsRw_X2"
      }
    },
    {
      "cell_type": "code",
      "source": [
        "# 리스트를 시리즈로 변환하여 변수 sr에 저장\n",
        "list_data = ['2019-01-02', 3.14, 'ABC', 100, True]\n",
        "sr = pd.Series(list_data)\n",
        "print(sr)\n",
        "print('\\n')\n",
        "\n",
        "# 인덱스 배열은 변수 idx에 저장. 데이터 값 배열은 변수 val에 저장\n",
        "idx = sr.index\n",
        "val = sr.values\n",
        "print(idx)\n",
        "print('\\n')\n",
        "print(val)"
      ],
      "metadata": {
        "id": "FA95Kn-alQNs",
        "colab": {
          "base_uri": "https://localhost:8080/"
        },
        "outputId": "9e0aeb4a-c972-4f0c-82c7-72c11ef258a3"
      },
      "execution_count": 13,
      "outputs": [
        {
          "output_type": "stream",
          "name": "stdout",
          "text": [
            "0    2019-01-02\n",
            "1          3.14\n",
            "2           ABC\n",
            "3           100\n",
            "4          True\n",
            "dtype: object\n",
            "\n",
            "\n",
            "RangeIndex(start=0, stop=5, step=1)\n",
            "\n",
            "\n",
            "['2019-01-02' 3.14 'ABC' 100 True]\n"
          ]
        }
      ]
    },
    {
      "cell_type": "markdown",
      "source": [
        "series_element"
      ],
      "metadata": {
        "id": "jfhx2unrxCpr"
      }
    },
    {
      "cell_type": "code",
      "source": [
        "# 투플을 시리즈로 변환(index 옵션에 인덱스 이름을 지정)\n",
        "tup_data = ('영인', '2010-05-01', '여', True)\n",
        "sr = pd.Series(tup_data, index=['이름', '생년월일', '성별', '학생여부'])\n",
        "print(sr)\n",
        "print('\\n')\n",
        "\n",
        "# 원소를 1개 선택\n",
        "print(sr[0])       # sr의 1 번째 원소를 선택 (정수형 위치 인덱스를 활용)\n",
        "print(sr['이름'])  # '이름' 라벨을 가진 원소를 선택 (인덱스 이름을 활용)\n",
        "print('\\n')\n",
        "\n",
        "# 여러 개의 원소를 선택 (인덱스 리스트 활용)\n",
        "print(sr[[1, 2]]) \n",
        "print('\\n')           \n",
        "print(sr[['생년월일', '성별']])\n",
        "print('\\n')\n",
        "\n",
        "# 여러 개의 원소를 선택 (인덱스 범위 지정)\n",
        "print(sr[1 : 2])  \n",
        "print('\\n')              \n",
        "print(sr['생년월일' : '성별'])"
      ],
      "metadata": {
        "colab": {
          "base_uri": "https://localhost:8080/"
        },
        "id": "MsdXsfk9rfxp",
        "outputId": "77095869-9515-44f6-b45f-998af084fbdf"
      },
      "execution_count": 14,
      "outputs": [
        {
          "output_type": "stream",
          "name": "stdout",
          "text": [
            "이름              영인\n",
            "생년월일    2010-05-01\n",
            "성별               여\n",
            "학생여부          True\n",
            "dtype: object\n",
            "\n",
            "\n",
            "영인\n",
            "영인\n",
            "\n",
            "\n",
            "생년월일    2010-05-01\n",
            "성별               여\n",
            "dtype: object\n",
            "\n",
            "\n",
            "생년월일    2010-05-01\n",
            "성별               여\n",
            "dtype: object\n",
            "\n",
            "\n",
            "생년월일    2010-05-01\n",
            "dtype: object\n",
            "\n",
            "\n",
            "생년월일    2010-05-01\n",
            "성별               여\n",
            "dtype: object\n"
          ]
        }
      ]
    },
    {
      "cell_type": "markdown",
      "source": [
        "dict_to_dataframe"
      ],
      "metadata": {
        "id": "6JR5tbmdxGjf"
      }
    },
    {
      "cell_type": "code",
      "source": [
        "\n",
        "# 열이름을 key로 하고, 리스트를 value로 갖는 딕셔너리 정의(2차원 배열)\n",
        "dict_data = {'c0':[1,2,3], 'c1':[4,5,6], 'c2':[7,8,9], 'c3':[10,11,12], 'c4':[13,14,15]}\n",
        "\n",
        "# 판다스 DataFrame() 함수로 딕셔너리를 데이터프레임으로 변환. 변수 df에 저장. \n",
        "df = pd.DataFrame(dict_data)\n",
        "\n",
        "# df의 자료형 출력\n",
        "print(type(df)) \n",
        "print('\\n')\n",
        "# 변수 df에 저장되어 있는 데이터프레임 객체를 출력\n",
        "print(df)\n"
      ],
      "metadata": {
        "colab": {
          "base_uri": "https://localhost:8080/"
        },
        "id": "3O1g4xuNryZ1",
        "outputId": "e4003287-857d-4269-b68e-3f59d4578c21"
      },
      "execution_count": 15,
      "outputs": [
        {
          "output_type": "stream",
          "name": "stdout",
          "text": [
            "<class 'pandas.core.frame.DataFrame'>\n",
            "\n",
            "\n",
            "   c0  c1  c2  c3  c4\n",
            "0   1   4   7  10  13\n",
            "1   2   5   8  11  14\n",
            "2   3   6   9  12  15\n"
          ]
        }
      ]
    },
    {
      "cell_type": "markdown",
      "source": [
        "change_df_idx_col"
      ],
      "metadata": {
        "id": "zijH4VRlxPhG"
      }
    },
    {
      "cell_type": "code",
      "source": [
        "# 행 인덱스/열 이름 지정하여, 데이터프레임 만들기\n",
        "df = pd.DataFrame([[15, '남', '덕영중'], [17, '여', '수리중']], \n",
        "                   index=['준서', '예은'],\n",
        "                   columns=['나이', '성별', '학교'])\n",
        "\n",
        "# 행 인덱스, 열 이름 확인하기\n",
        "print(df)            #데이터프레임\n",
        "print('\\n')\n",
        "print(df.index)      #행 인덱스\n",
        "print('\\n')\n",
        "print(df.columns)    #열 이름\n",
        "print('\\n')\n",
        "\n",
        "# 행 인덱스, 열 이름 변경하기\n",
        "df.index=['학생1', '학생2']\n",
        "df.columns=['연령', '남녀', '소속']\n",
        "\n",
        "print(df)            #데이터프레임\n",
        "print('\\n')\n",
        "print(df.index)      #행 인덱스\n",
        "print('\\n')\n",
        "print(df.columns)    #열 이름"
      ],
      "metadata": {
        "colab": {
          "base_uri": "https://localhost:8080/"
        },
        "id": "tGIBsGqNrycs",
        "outputId": "434d862c-1f5a-489d-cfac-465a097e9999"
      },
      "execution_count": 16,
      "outputs": [
        {
          "output_type": "stream",
          "name": "stdout",
          "text": [
            "    나이 성별   학교\n",
            "준서  15  남  덕영중\n",
            "예은  17  여  수리중\n",
            "\n",
            "\n",
            "Index(['준서', '예은'], dtype='object')\n",
            "\n",
            "\n",
            "Index(['나이', '성별', '학교'], dtype='object')\n",
            "\n",
            "\n",
            "     연령 남녀   소속\n",
            "학생1  15  남  덕영중\n",
            "학생2  17  여  수리중\n",
            "\n",
            "\n",
            "Index(['학생1', '학생2'], dtype='object')\n",
            "\n",
            "\n",
            "Index(['연령', '남녀', '소속'], dtype='object')\n"
          ]
        }
      ]
    },
    {
      "cell_type": "markdown",
      "source": [
        "change_df_idx_col2"
      ],
      "metadata": {
        "id": "uHarHse0wq28"
      }
    },
    {
      "cell_type": "code",
      "source": [
        "# 행 인덱스/열 이름 지정하여, 데이터프레임 만들기\n",
        "df = pd.DataFrame([[15, '남', '덕영중'], [17, '여', '수리중']], \n",
        "                   index=['준서', '예은'],\n",
        "                   columns=['나이', '성별', '학교'])\n",
        "\n",
        "# 데이터프레임 df 출력\n",
        "print(df)\n",
        "print(\"\\n\")\n",
        "\n",
        "# 열 이름 중, '나이'를 '연령'으로, '성별'을 '남녀'로, '학교'를 '소속'으로 바꾸기\n",
        "df.rename(columns={'나이':'연령', '성별':'남녀', '학교':'소속'}, inplace=True)\n",
        "\n",
        "# df의 행 인덱스 중에서, '준서'를 '학생1'로, '예은'을 '학생2'로 바꾸기\n",
        "df.rename(index={'준서':'학생1', '예은':'학생2' }, inplace=True)\n",
        "\n",
        "# df 출력(변경 후)\n",
        "print(df)"
      ],
      "metadata": {
        "colab": {
          "base_uri": "https://localhost:8080/"
        },
        "id": "Hz4qweT8ryfc",
        "outputId": "a57d9fc9-f5a2-4970-c473-284068fa8e5e"
      },
      "execution_count": 17,
      "outputs": [
        {
          "output_type": "stream",
          "name": "stdout",
          "text": [
            "    나이 성별   학교\n",
            "준서  15  남  덕영중\n",
            "예은  17  여  수리중\n",
            "\n",
            "\n",
            "     연령 남녀   소속\n",
            "학생1  15  남  덕영중\n",
            "학생2  17  여  수리중\n"
          ]
        }
      ]
    },
    {
      "cell_type": "markdown",
      "source": [
        "remove_row"
      ],
      "metadata": {
        "id": "B37M7fpKwliX"
      }
    },
    {
      "cell_type": "code",
      "source": [
        "# DataFrame() 함수로 데이터프레임 변환. 변수 df에 저장 \n",
        "exam_data = {'수학': [90, 80,70], '영어': [98, 89, 95], '음악': [85, 95, 100], '체육' : [100, 90, 90]}\n",
        "\n",
        "df = pd.DataFrame(exam_data, index = ['서준', '우현', '인아'])\n",
        "print(df)\n",
        "print('\\n') # 엔터의 효과다\n",
        "\n",
        "\n",
        "df2 = df[:]\n",
        "\n",
        "# df2의 1개 행(row)을 삭제\n",
        "df2.drop('우현', inplace=True)  # inplace = False 로 하면 행삭제가 적용이 되지 않는다. \n",
        "print(df2)\n",
        "print('\\n')\n",
        "\n",
        "# 데이터프레임 df를 복제하여 변수 df3에 저장. df3의 2개 행(row)을 삭제\n",
        "df3 = df[:] # 여기 슬라이싱은 전부선택이다. \n",
        "df3.drop(['우현', '인아'], inplace=True)  # df3 = df3.drop(['우현', '인아']) 이렇게 입력해도 같다.  다만 앞에 df3 변수를 또 정의을 해주어야 작동이 된다. \n",
        "print(df3)\n",
        "print('\\n')\n"
      ],
      "metadata": {
        "colab": {
          "base_uri": "https://localhost:8080/"
        },
        "id": "9iaKS_Fgta8e",
        "outputId": "63229bd3-e123-4909-9b98-6b61c1f60a66"
      },
      "execution_count": 18,
      "outputs": [
        {
          "output_type": "stream",
          "name": "stdout",
          "text": [
            "    수학  영어   음악   체육\n",
            "서준  90  98   85  100\n",
            "우현  80  89   95   90\n",
            "인아  70  95  100   90\n",
            "\n",
            "\n",
            "    수학  영어   음악   체육\n",
            "서준  90  98   85  100\n",
            "인아  70  95  100   90\n",
            "\n",
            "\n",
            "    수학  영어  음악   체육\n",
            "서준  90  98  85  100\n",
            "\n",
            "\n"
          ]
        },
        {
          "output_type": "stream",
          "name": "stderr",
          "text": [
            "<ipython-input-18-37bd03670ef0>:12: SettingWithCopyWarning: \n",
            "A value is trying to be set on a copy of a slice from a DataFrame\n",
            "\n",
            "See the caveats in the documentation: https://pandas.pydata.org/pandas-docs/stable/user_guide/indexing.html#returning-a-view-versus-a-copy\n",
            "  df2.drop('우현', inplace=True)  # inplace = False 로 하면 행삭제가 적용이 되지 않는다.\n",
            "<ipython-input-18-37bd03670ef0>:18: SettingWithCopyWarning: \n",
            "A value is trying to be set on a copy of a slice from a DataFrame\n",
            "\n",
            "See the caveats in the documentation: https://pandas.pydata.org/pandas-docs/stable/user_guide/indexing.html#returning-a-view-versus-a-copy\n",
            "  df3.drop(['우현', '인아'], inplace=True)  # df3 = df3.drop(['우현', '인아']) 이렇게 입력해도 같다.  다만 앞에 df3 변수를 또 정의을 해주어야 작동이 된다.\n"
          ]
        }
      ]
    },
    {
      "cell_type": "markdown",
      "source": [
        "remove_column"
      ],
      "metadata": {
        "id": "UI5rKJR7whID"
      }
    },
    {
      "cell_type": "code",
      "source": [
        "exam_data = {'수학': [90, 80,70], '영어': [98, 89, 95], '음악': [85, 95, 100], '체육' : [100, 90, 90]}\n",
        "\n",
        "df = pd.DataFrame(exam_data, index = ['서준', '우현', '인아'])\n",
        "print(df)\n",
        "print('\\n') # 엔터의 효과다\n",
        "\n",
        "df4 = df.copy()  # 복사를 하는 이유는 원본이 변경되기 때문에 원본과 비교 분석하기 위해 쓴다.\n",
        "df4.drop('수학',axis=1, inplace=True)  # inplace = False 로 하면 열삭제가 적용이 되지 않는다. \n",
        "print(df4)\n",
        "print('\\n')\n",
        "\n",
        "df5 = df.copy() # 복사를 하는 이유는 원본이 변경되기 때문에 원본과 비교 분석하기 위해 쓴다.  \n",
        "df5.drop(['영어', '수학'],axis=1, inplace=True)  # df5 = df5.drop(['영어', '수학']) 이렇게 입력하면 열삭제가 작동이 안되. None이 나옴. 그러므로 열삭제에서는 적용이 안되네.-> 이거는 이미 지우고 다시 실행해서 그런거임\n",
        "print(df5)\n",
        "print('\\n')"
      ],
      "metadata": {
        "colab": {
          "base_uri": "https://localhost:8080/"
        },
        "id": "_ag6GFPT1Es5",
        "outputId": "3d88dd9e-2671-4c77-f7c6-3299d339aca2"
      },
      "execution_count": 19,
      "outputs": [
        {
          "output_type": "stream",
          "name": "stdout",
          "text": [
            "    수학  영어   음악   체육\n",
            "서준  90  98   85  100\n",
            "우현  80  89   95   90\n",
            "인아  70  95  100   90\n",
            "\n",
            "\n",
            "    영어   음악   체육\n",
            "서준  98   85  100\n",
            "우현  89   95   90\n",
            "인아  95  100   90\n",
            "\n",
            "\n",
            "     음악   체육\n",
            "서준   85  100\n",
            "우현   95   90\n",
            "인아  100   90\n",
            "\n",
            "\n"
          ]
        }
      ]
    },
    {
      "cell_type": "markdown",
      "source": [
        "select_row"
      ],
      "metadata": {
        "id": "P2ONn05hwXEE"
      }
    },
    {
      "cell_type": "code",
      "source": [
        "# DataFrame() 함수로 데이터프레임 변환. 변수 df에 저장 \n",
        "exam_data = {'수학' : [ 90, 80, 70], '영어' : [ 98, 89, 95],\n",
        "             '음악' : [ 85, 95, 100], '체육' : [ 100, 90, 90]}\n",
        "\n",
        "df = pd.DataFrame(exam_data, index=['서준', '우현', '인아'])\n",
        "print(df)       # 데이터프레임 출력\n",
        "print('\\n')\n",
        "\n",
        "# 행 인덱스를 사용하여 행 1개를 선택\n",
        "label1 = df.loc['서준']    # loc 인덱서 활용\n",
        "position1 = df.iloc[0]     # iloc 인덱서 활용\n",
        "print(label1)\n",
        "print('\\n')\n",
        "print(position1)\n",
        "print('\\n')\n",
        "\n",
        "# 행 인덱스를 사용하여 2개 이상의 행 선택\n",
        "label2 = df.loc[['서준', '우현']]\n",
        "position2 = df.iloc[[0, 1]]\n",
        "print(label2)\n",
        "print('\\n')\n",
        "print(position2)\n",
        "print('\\n')\n",
        "\n",
        "# 행 인덱스의 범위를 지정하여 행 선택\n",
        "label3 = df.loc['서준':'우현']\n",
        "position3 = df.iloc[0:1]\n",
        "print(label3)\n",
        "print('\\n')\n",
        "print(position3)\n"
      ],
      "metadata": {
        "colab": {
          "base_uri": "https://localhost:8080/"
        },
        "id": "ipE8udIvvkUP",
        "outputId": "96797d8c-e358-40b8-d7e5-0ea18638c27e"
      },
      "execution_count": 20,
      "outputs": [
        {
          "output_type": "stream",
          "name": "stdout",
          "text": [
            "    수학  영어   음악   체육\n",
            "서준  90  98   85  100\n",
            "우현  80  89   95   90\n",
            "인아  70  95  100   90\n",
            "\n",
            "\n",
            "수학     90\n",
            "영어     98\n",
            "음악     85\n",
            "체육    100\n",
            "Name: 서준, dtype: int64\n",
            "\n",
            "\n",
            "수학     90\n",
            "영어     98\n",
            "음악     85\n",
            "체육    100\n",
            "Name: 서준, dtype: int64\n",
            "\n",
            "\n",
            "    수학  영어  음악   체육\n",
            "서준  90  98  85  100\n",
            "우현  80  89  95   90\n",
            "\n",
            "\n",
            "    수학  영어  음악   체육\n",
            "서준  90  98  85  100\n",
            "우현  80  89  95   90\n",
            "\n",
            "\n",
            "    수학  영어  음악   체육\n",
            "서준  90  98  85  100\n",
            "우현  80  89  95   90\n",
            "\n",
            "\n",
            "    수학  영어  음악   체육\n",
            "서준  90  98  85  100\n"
          ]
        }
      ]
    },
    {
      "cell_type": "markdown",
      "source": [
        "select_column"
      ],
      "metadata": {
        "id": "6_kfkikswQZs"
      }
    },
    {
      "cell_type": "code",
      "source": [
        "# DataFrame() 함수로 데이터프레임 변환. 변수 df에 저장 \n",
        "exam_data = {'이름' : [ '서준', '우현', '인아'],\n",
        "             '수학' : [ 90, 80, 70],\n",
        "             '영어' : [ 98, 89, 95],\n",
        "             '음악' : [ 85, 95, 100],\n",
        "             '체육' : [ 100, 90, 90]}\n",
        "df = pd.DataFrame(exam_data)\n",
        "print(df)\n",
        "print(type(df))\n",
        "print('\\n')\n",
        "\n",
        "# '수학' 점수 데이터만 선택. 변수 math1에 저장\n",
        "math1 = df['수학']\n",
        "print(math1)\n",
        "print(type(math1))\n",
        "print('\\n')\n",
        "\n",
        "# '영어' 점수 데이터만 선택. 변수 english에 저장\n",
        "english = df.영어\n",
        "print(english)\n",
        "print(type(english))\n",
        "print('\\n')\n",
        "\n",
        "# '음악', '체육' 점수 데이터를 선택. 변수 music_gym 에 저장\n",
        "music_gym = df[['음악', '체육']]\n",
        "print(music_gym)\n",
        "print(type(music_gym))\n",
        "print('\\n')\n",
        "\n",
        "# '수학' 점수 데이터만 선택. 변수 math2에 저장\n",
        "math2 = df[['수학']]\n",
        "print(math2)\n",
        "print(type(math2))"
      ],
      "metadata": {
        "colab": {
          "base_uri": "https://localhost:8080/"
        },
        "id": "ad494egXwHdb",
        "outputId": "5feae8cb-c2e3-4239-db31-df2bdb82185c"
      },
      "execution_count": 21,
      "outputs": [
        {
          "output_type": "stream",
          "name": "stdout",
          "text": [
            "   이름  수학  영어   음악   체육\n",
            "0  서준  90  98   85  100\n",
            "1  우현  80  89   95   90\n",
            "2  인아  70  95  100   90\n",
            "<class 'pandas.core.frame.DataFrame'>\n",
            "\n",
            "\n",
            "0    90\n",
            "1    80\n",
            "2    70\n",
            "Name: 수학, dtype: int64\n",
            "<class 'pandas.core.series.Series'>\n",
            "\n",
            "\n",
            "0    98\n",
            "1    89\n",
            "2    95\n",
            "Name: 영어, dtype: int64\n",
            "<class 'pandas.core.series.Series'>\n",
            "\n",
            "\n",
            "    음악   체육\n",
            "0   85  100\n",
            "1   95   90\n",
            "2  100   90\n",
            "<class 'pandas.core.frame.DataFrame'>\n",
            "\n",
            "\n",
            "   수학\n",
            "0  90\n",
            "1  80\n",
            "2  70\n",
            "<class 'pandas.core.frame.DataFrame'>\n"
          ]
        }
      ]
    },
    {
      "cell_type": "markdown",
      "source": [
        "select_element"
      ],
      "metadata": {
        "id": "nYWZ3V90y6tN"
      }
    },
    {
      "cell_type": "code",
      "source": [
        "# DataFrame() 함수로 데이터프레임 변환. 변수 df에 저장 \n",
        "exam_data = {'이름' : [ '서준', '우현', '인아'],\n",
        "             '수학' : [ 90, 80, 70],\n",
        "             '영어' : [ 98, 89, 95],\n",
        "             '음악' : [ 85, 95, 100],\n",
        "             '체육' : [ 100, 90, 90]}\n",
        "df = pd.DataFrame(exam_data)\n",
        "\n",
        "# '이름' 열을 새로운 인덱스로 지정하고, df 객체에 변경사항 반영\n",
        "df.set_index('이름', inplace=True)\n",
        "print(df)\n",
        "print('\\n')\n",
        "\n",
        "# 데이터프레임 df의 특정 원소 1개 선택 ('서준'의 '음악' 점수)\n",
        "a = df.loc['서준', '음악']\n",
        "print(a)\n",
        "b = df.iloc[0, 2]\n",
        "print(b)\n",
        "print('\\n')\n",
        "\n",
        "# 데이터프레임 df의 특정 원소 2개 이상 선택 ('서준'의 '음악', '체육' 점수) \n",
        "c = df.loc['서준', ['음악', '체육']]\n",
        "print(c)\n",
        "d = df.iloc[0, [2, 3]]\n",
        "print(d)\n",
        "e = df.loc['서준', '음악':'체육']\n",
        "print(e)\n",
        "f = df.iloc[0, 2:]\n",
        "print(f)\n",
        "print('\\n')\n",
        "\n",
        "# df의 2개 이상의 행과 열로부터 원소 선택 ('서준', '우현'의 '음악', '체육' 점수) \n",
        "g = df.loc[['서준', '우현'], ['음악', '체육']]\n",
        "print(g)\n",
        "h = df.iloc[[0, 1], [2, 3]]\n",
        "print(h)\n",
        "i = df.loc['서준':'우현', '음악':'체육']\n",
        "print(i)\n",
        "j = df.iloc[0:2, 2:]\n",
        "print(j)"
      ],
      "metadata": {
        "colab": {
          "base_uri": "https://localhost:8080/"
        },
        "id": "Md4Mma1pzAnB",
        "outputId": "f77df07b-ecc6-439f-9a5c-9a8117c9ea50"
      },
      "execution_count": 22,
      "outputs": [
        {
          "output_type": "stream",
          "name": "stdout",
          "text": [
            "    수학  영어   음악   체육\n",
            "이름                  \n",
            "서준  90  98   85  100\n",
            "우현  80  89   95   90\n",
            "인아  70  95  100   90\n",
            "\n",
            "\n",
            "85\n",
            "85\n",
            "\n",
            "\n",
            "음악     85\n",
            "체육    100\n",
            "Name: 서준, dtype: int64\n",
            "음악     85\n",
            "체육    100\n",
            "Name: 서준, dtype: int64\n",
            "음악     85\n",
            "체육    100\n",
            "Name: 서준, dtype: int64\n",
            "음악     85\n",
            "체육    100\n",
            "Name: 서준, dtype: int64\n",
            "\n",
            "\n",
            "    음악   체육\n",
            "이름         \n",
            "서준  85  100\n",
            "우현  95   90\n",
            "    음악   체육\n",
            "이름         \n",
            "서준  85  100\n",
            "우현  95   90\n",
            "    음악   체육\n",
            "이름         \n",
            "서준  85  100\n",
            "우현  95   90\n",
            "    음악   체육\n",
            "이름         \n",
            "서준  85  100\n",
            "우현  95   90\n"
          ]
        }
      ]
    },
    {
      "cell_type": "markdown",
      "source": [
        "add_column"
      ],
      "metadata": {
        "id": "IeJecOU0zZh_"
      }
    },
    {
      "cell_type": "code",
      "source": [
        "# DataFrame() 함수로 데이터프레임 변환. 변수 df에 저장 \n",
        "exam_data = {'이름' : [ '서준', '우현', '인아'],\n",
        "             '수학' : [ 90, 80, 70],\n",
        "             '영어' : [ 98, 89, 95],\n",
        "             '음악' : [ 85, 95, 100],\n",
        "             '체육' : [ 100, 90, 90]}\n",
        "df = pd.DataFrame(exam_data)\n",
        "print(df)\n",
        "print('\\n')\n",
        "\n",
        "# 데이터프레임 df에 '국어' 점수 열(column)을 추가. 데이터 값은 80 지정\n",
        "df['국어'] = 80\n",
        "print(df)"
      ],
      "metadata": {
        "colab": {
          "base_uri": "https://localhost:8080/"
        },
        "id": "2_48i1x2zT8W",
        "outputId": "9749a14f-1cf9-4d59-e967-cb194bccc640"
      },
      "execution_count": 23,
      "outputs": [
        {
          "output_type": "stream",
          "name": "stdout",
          "text": [
            "   이름  수학  영어   음악   체육\n",
            "0  서준  90  98   85  100\n",
            "1  우현  80  89   95   90\n",
            "2  인아  70  95  100   90\n",
            "\n",
            "\n",
            "   이름  수학  영어   음악   체육  국어\n",
            "0  서준  90  98   85  100  80\n",
            "1  우현  80  89   95   90  80\n",
            "2  인아  70  95  100   90  80\n"
          ]
        }
      ]
    },
    {
      "cell_type": "markdown",
      "source": [
        "add_row"
      ],
      "metadata": {
        "id": "HGAvlqe6zeTs"
      }
    },
    {
      "cell_type": "code",
      "source": [
        "# DataFrame() 함수로 데이터프레임 변환. 변수 df에 저장 \n",
        "exam_data = {'이름' : ['서준', '우현', '인아'],\n",
        "             '수학' : [ 90, 80, 70],\n",
        "             '영어' : [ 98, 89, 95],\n",
        "             '음악' : [ 85, 95, 100],\n",
        "             '체육' : [ 100, 90, 90]}\n",
        "df = pd.DataFrame(exam_data)\n",
        "print(df)\n",
        "print('\\n')\n",
        "\n",
        "# 새로운 행(row)을 추가 - 같은 원소 값을 입력\n",
        "df.loc[3] = 0  ####################\n",
        "print(df)\n",
        "print('\\n')\n",
        "\n",
        "# 새로운 행(row)을 추가 - 원소 값 여러 개의 배열 입력\n",
        "df.loc[4] = ['동규', 90, 80, 70, 60]   ###############\n",
        "print(df)\n",
        "print('\\n')\n",
        "\n",
        "# 새로운 행(row)을 추가 - 기존 행을 복사\n",
        "df.loc['행5'] = df.loc[3]\n",
        "print(df)"
      ],
      "metadata": {
        "colab": {
          "base_uri": "https://localhost:8080/"
        },
        "id": "pTOcNtvTzgx7",
        "outputId": "ea68d9eb-f299-4066-cfd5-998ee44b4f57"
      },
      "execution_count": 24,
      "outputs": [
        {
          "output_type": "stream",
          "name": "stdout",
          "text": [
            "   이름  수학  영어   음악   체육\n",
            "0  서준  90  98   85  100\n",
            "1  우현  80  89   95   90\n",
            "2  인아  70  95  100   90\n",
            "\n",
            "\n",
            "   이름  수학  영어   음악   체육\n",
            "0  서준  90  98   85  100\n",
            "1  우현  80  89   95   90\n",
            "2  인아  70  95  100   90\n",
            "3   0   0   0    0    0\n",
            "\n",
            "\n",
            "   이름  수학  영어   음악   체육\n",
            "0  서준  90  98   85  100\n",
            "1  우현  80  89   95   90\n",
            "2  인아  70  95  100   90\n",
            "3   0   0   0    0    0\n",
            "4  동규  90  80   70   60\n",
            "\n",
            "\n",
            "    이름  수학  영어   음악   체육\n",
            "0   서준  90  98   85  100\n",
            "1   우현  80  89   95   90\n",
            "2   인아  70  95  100   90\n",
            "3    0   0   0    0    0\n",
            "4   동규  90  80   70   60\n",
            "행5   0   0   0    0    0\n"
          ]
        }
      ]
    },
    {
      "cell_type": "markdown",
      "source": [
        "modify_dataframe_element"
      ],
      "metadata": {
        "id": "d0qtTCNf2Dwa"
      }
    },
    {
      "cell_type": "code",
      "source": [
        "# DataFrame() 함수로 데이터프레임 변환. 변수 df에 저장 \n",
        "exam_data = {'이름' : [ '서준', '우현', '인아'],\n",
        "             '수학' : [ 90, 80, 70],\n",
        "             '영어' : [ 98, 89, 95],\n",
        "             '음악' : [ 85, 95, 100],\n",
        "             '체육' : [ 100, 90, 90]}\n",
        "df = pd.DataFrame(exam_data)\n",
        "\n",
        "# '이름' 열을 새로운 인덱스로 지정하고, df 객체에 변경사항 반영\n",
        "df.set_index('이름', inplace=True)\n",
        "print(df)\n",
        "print('\\n')\n",
        "\n",
        "# 데이터프레임 df의 특정 원소를 변경하는 방법: '서준'의 '체육' 점수\n",
        "df.iloc[0][3] = 80\n",
        "print(df)\n",
        "print('\\n')\n",
        "\n",
        "df.loc['서준']['체육'] = 90\n",
        "print(df)\n",
        "print('\\n')\n",
        "\n",
        "df.loc['서준', '체육'] = 100\n",
        "print(df)\n",
        "print('\\n')\n",
        "\n",
        "# 데이터프레임 df의 원소 여러 개를 변경하는 방법: '서준'의 '음악', '체육' 점수\n",
        "df.loc['서준', ['음악', '체육']] = 50\n",
        "print(df)\n",
        "print('\\n')\n",
        "\n",
        "df.loc['서준', ['음악', '체육']] = 100, 50\n",
        "print(df)"
      ],
      "metadata": {
        "colab": {
          "base_uri": "https://localhost:8080/"
        },
        "id": "8PU63Td52LzY",
        "outputId": "04a70d20-70bd-4ffa-cf13-98b94f3f271a"
      },
      "execution_count": 25,
      "outputs": [
        {
          "output_type": "stream",
          "name": "stdout",
          "text": [
            "    수학  영어   음악   체육\n",
            "이름                  \n",
            "서준  90  98   85  100\n",
            "우현  80  89   95   90\n",
            "인아  70  95  100   90\n",
            "\n",
            "\n",
            "    수학  영어   음악  체육\n",
            "이름                 \n",
            "서준  90  98   85  80\n",
            "우현  80  89   95  90\n",
            "인아  70  95  100  90\n",
            "\n",
            "\n",
            "    수학  영어   음악  체육\n",
            "이름                 \n",
            "서준  90  98   85  90\n",
            "우현  80  89   95  90\n",
            "인아  70  95  100  90\n",
            "\n",
            "\n",
            "    수학  영어   음악   체육\n",
            "이름                  \n",
            "서준  90  98   85  100\n",
            "우현  80  89   95   90\n",
            "인아  70  95  100   90\n",
            "\n",
            "\n",
            "    수학  영어   음악  체육\n",
            "이름                 \n",
            "서준  90  98   50  50\n",
            "우현  80  89   95  90\n",
            "인아  70  95  100  90\n",
            "\n",
            "\n",
            "    수학  영어   음악  체육\n",
            "이름                 \n",
            "서준  90  98  100  50\n",
            "우현  80  89   95  90\n",
            "인아  70  95  100  90\n"
          ]
        }
      ]
    },
    {
      "cell_type": "markdown",
      "source": [
        "transpose"
      ],
      "metadata": {
        "id": "5N2OWvWo2dNq"
      }
    },
    {
      "cell_type": "code",
      "source": [
        "\n",
        "# DataFrame() 함수로 데이터프레임 변환. 변수 df에 저장 \n",
        "exam_data = {'이름' : [ '서준', '우현', '인아'],\n",
        "             '수학' : [ 90, 80, 70],\n",
        "             '영어' : [ 98, 89, 95],\n",
        "             '음악' : [ 85, 95, 100],\n",
        "             '체육' : [ 100, 90, 90]}\n",
        "df = pd.DataFrame(exam_data)\n",
        "print(df)\n",
        "print('\\n')\n",
        "\n",
        "# 데이터프레임 df를 전치하기 (메소드 활용)\n",
        "df = df.transpose()\n",
        "print(df)\n",
        "print('\\n')\n",
        "\n",
        "# 데이터프레임 df를 다시 전치하기 (클래스 속성 활용)\n",
        "df = df.T\n",
        "print(df)"
      ],
      "metadata": {
        "colab": {
          "base_uri": "https://localhost:8080/"
        },
        "id": "LFK0aQrE2h4F",
        "outputId": "5f2bfe3e-64d9-45e8-d468-d2e9ddd24cff"
      },
      "execution_count": 26,
      "outputs": [
        {
          "output_type": "stream",
          "name": "stdout",
          "text": [
            "   이름  수학  영어   음악   체육\n",
            "0  서준  90  98   85  100\n",
            "1  우현  80  89   95   90\n",
            "2  인아  70  95  100   90\n",
            "\n",
            "\n",
            "      0   1    2\n",
            "이름   서준  우현   인아\n",
            "수학   90  80   70\n",
            "영어   98  89   95\n",
            "음악   85  95  100\n",
            "체육  100  90   90\n",
            "\n",
            "\n",
            "   이름  수학  영어   음악   체육\n",
            "0  서준  90  98   85  100\n",
            "1  우현  80  89   95   90\n",
            "2  인아  70  95  100   90\n"
          ]
        }
      ]
    },
    {
      "cell_type": "markdown",
      "source": [
        "set_index"
      ],
      "metadata": {
        "id": "3G50mRek4oFC"
      }
    },
    {
      "cell_type": "code",
      "source": [
        "# DataFrame() 함수로 데이터프레임 변환. 변수 df에 저장 \n",
        "exam_data = {'이름' : [ '서준', '우현', '인아'],\n",
        "             '수학' : [ 90, 80, 70],\n",
        "             '영어' : [ 98, 89, 95],\n",
        "             '음악' : [ 85, 95, 100],\n",
        "             '체육' : [ 100, 90, 90]}\n",
        "df = pd.DataFrame(exam_data)\n",
        "print(df)\n",
        "print('\\n')\n",
        "\n",
        "# 특정 열(column)을 데이터프레임의 행 인덱스(index)로 설정 \n",
        "ndf = df.set_index(['이름'])\n",
        "print(ndf)\n",
        "print('\\n')\n",
        "ndf2 = ndf.set_index('음악')\n",
        "print(ndf2)\n",
        "print('\\n')\n",
        "ndf3 = ndf.set_index(['수학', '음악'])\n",
        "print(ndf3)"
      ],
      "metadata": {
        "colab": {
          "base_uri": "https://localhost:8080/"
        },
        "id": "RuiK2n9R2xot",
        "outputId": "640ced0e-415c-491f-d607-f0461533f08f"
      },
      "execution_count": 27,
      "outputs": [
        {
          "output_type": "stream",
          "name": "stdout",
          "text": [
            "   이름  수학  영어   음악   체육\n",
            "0  서준  90  98   85  100\n",
            "1  우현  80  89   95   90\n",
            "2  인아  70  95  100   90\n",
            "\n",
            "\n",
            "    수학  영어   음악   체육\n",
            "이름                  \n",
            "서준  90  98   85  100\n",
            "우현  80  89   95   90\n",
            "인아  70  95  100   90\n",
            "\n",
            "\n",
            "     수학  영어   체육\n",
            "음악              \n",
            "85   90  98  100\n",
            "95   80  89   90\n",
            "100  70  95   90\n",
            "\n",
            "\n",
            "        영어   체육\n",
            "수학 음악          \n",
            "90 85   98  100\n",
            "80 95   89   90\n",
            "70 100  95   90\n"
          ]
        }
      ]
    },
    {
      "cell_type": "markdown",
      "source": [
        "reindex"
      ],
      "metadata": {
        "id": "r5X1SZ_940PU"
      }
    },
    {
      "cell_type": "code",
      "source": [
        "# 딕셔서리를 정의\n",
        "dict_data = {'c0':[1,2,3], 'c1':[4,5,6], 'c2':[7,8,9], 'c3':[10,11,12], 'c4':[13,14,15]}\n",
        "\n",
        "# 딕셔서리를 데이터프레임으로 변환. 인덱스를 [r0, r1, r2]로 지정\n",
        "df = pd.DataFrame(dict_data, index=['r0', 'r1', 'r2'])\n",
        "print(df)\n",
        "print('\\n')\n",
        "\n",
        "# 인덱스를 [r0, r1, r2, r3, r4]로 재지정\n",
        "new_index = ['r0', 'r1', 'r2', 'r3', 'r4']\n",
        "ndf = df.reindex(new_index)\n",
        "print(ndf)\n",
        "print('\\n')\n",
        "\n",
        "# reindex로 발생한 NaN값을 숫자 0으로 채우기\n",
        "new_index = ['r0', 'r1', 'r2', 'r3', 'r4']\n",
        "ndf2 = df.reindex(new_index, fill_value=0)\n",
        "print(ndf2)"
      ],
      "metadata": {
        "colab": {
          "base_uri": "https://localhost:8080/"
        },
        "id": "e7P0nzlx4v10",
        "outputId": "a4ce8a96-f81c-421b-8919-add64664012b"
      },
      "execution_count": 28,
      "outputs": [
        {
          "output_type": "stream",
          "name": "stdout",
          "text": [
            "    c0  c1  c2  c3  c4\n",
            "r0   1   4   7  10  13\n",
            "r1   2   5   8  11  14\n",
            "r2   3   6   9  12  15\n",
            "\n",
            "\n",
            "     c0   c1   c2    c3    c4\n",
            "r0  1.0  4.0  7.0  10.0  13.0\n",
            "r1  2.0  5.0  8.0  11.0  14.0\n",
            "r2  3.0  6.0  9.0  12.0  15.0\n",
            "r3  NaN  NaN  NaN   NaN   NaN\n",
            "r4  NaN  NaN  NaN   NaN   NaN\n",
            "\n",
            "\n",
            "    c0  c1  c2  c3  c4\n",
            "r0   1   4   7  10  13\n",
            "r1   2   5   8  11  14\n",
            "r2   3   6   9  12  15\n",
            "r3   0   0   0   0   0\n",
            "r4   0   0   0   0   0\n"
          ]
        }
      ]
    },
    {
      "cell_type": "markdown",
      "source": [
        "reset_index"
      ],
      "metadata": {
        "id": "LAkkJCLY44Em"
      }
    },
    {
      "cell_type": "code",
      "source": [
        "# 딕셔서리를 정의\n",
        "dict_data = {'c0':[1,2,3], 'c1':[4,5,6], 'c2':[7,8,9], 'c3':[10,11,12], 'c4':[13,14,15]}\n",
        "\n",
        "# 딕셔서리를 데이터프레임으로 변환. 인덱스를 [r0, r1, r2]로 지정\n",
        "df = pd.DataFrame(dict_data, index=['r0', 'r1', 'r2'])\n",
        "print(df)\n",
        "print('\\n')\n",
        "\n",
        "# 행 인덱스를 정수형으로 초기화 \n",
        "ndf = df.reset_index()\n",
        "print(ndf)"
      ],
      "metadata": {
        "colab": {
          "base_uri": "https://localhost:8080/"
        },
        "id": "Ln6B_3VR5B71",
        "outputId": "7a06dbe5-a627-4c72-fe96-db38d82c919b"
      },
      "execution_count": 29,
      "outputs": [
        {
          "output_type": "stream",
          "name": "stdout",
          "text": [
            "    c0  c1  c2  c3  c4\n",
            "r0   1   4   7  10  13\n",
            "r1   2   5   8  11  14\n",
            "r2   3   6   9  12  15\n",
            "\n",
            "\n",
            "  index  c0  c1  c2  c3  c4\n",
            "0    r0   1   4   7  10  13\n",
            "1    r1   2   5   8  11  14\n",
            "2    r2   3   6   9  12  15\n"
          ]
        }
      ]
    },
    {
      "cell_type": "markdown",
      "source": [
        "sort_index"
      ],
      "metadata": {
        "id": "j_SP3wY05HEH"
      }
    },
    {
      "cell_type": "code",
      "source": [
        "# 딕셔서리를 정의\n",
        "dict_data = {'c0':[1,2,3], 'c1':[4,5,6], 'c2':[7,8,9], 'c3':[10,11,12], 'c4':[13,14,15]}\n",
        "\n",
        "# 딕셔서리를 데이터프레임으로 변환. 인덱스를 [r0, r1, r2]로 지정\n",
        "df = pd.DataFrame(dict_data, index=['r0', 'r1', 'r2'])\n",
        "print(df)\n",
        "print('\\n')\n",
        "\n",
        "# 내림차순으로 행 인덱스 정렬 \n",
        "ndf = df.sort_index(ascending=False)\n",
        "print(ndf)"
      ],
      "metadata": {
        "colab": {
          "base_uri": "https://localhost:8080/"
        },
        "id": "CyvyaC-d5E5j",
        "outputId": "9ff5ccd2-eae9-4e68-ae3c-f36521c3f5ee"
      },
      "execution_count": 30,
      "outputs": [
        {
          "output_type": "stream",
          "name": "stdout",
          "text": [
            "    c0  c1  c2  c3  c4\n",
            "r0   1   4   7  10  13\n",
            "r1   2   5   8  11  14\n",
            "r2   3   6   9  12  15\n",
            "\n",
            "\n",
            "    c0  c1  c2  c3  c4\n",
            "r2   3   6   9  12  15\n",
            "r1   2   5   8  11  14\n",
            "r0   1   4   7  10  13\n"
          ]
        }
      ]
    },
    {
      "cell_type": "markdown",
      "source": [
        "sort_values"
      ],
      "metadata": {
        "id": "-rSSwg9A5OoG"
      }
    },
    {
      "cell_type": "code",
      "source": [
        "# 딕셔서리를 정의\n",
        "dict_data = {'c0':[1,2,3], 'c1':[4,5,6], 'c2':[7,8,9], 'c3':[10,11,12], 'c4':[13,14,15]}\n",
        "\n",
        "# 딕셔서리를 데이터프레임으로 변환. 인덱스를 [r0, r1, r2]로 지정\n",
        "df = pd.DataFrame(dict_data, index=['r0', 'r1', 'r2'])\n",
        "print(df)\n",
        "print('\\n')\n",
        "\n",
        "# c1 열을 기준으로 내림차순 정렬 \n",
        "ndf = df.sort_values(by='c1', ascending=False)\n",
        "print(ndf)"
      ],
      "metadata": {
        "colab": {
          "base_uri": "https://localhost:8080/"
        },
        "id": "N7EZOUMz5Ss2",
        "outputId": "c977a356-7f62-4e1a-b4c9-4fe0f05c06ac"
      },
      "execution_count": 31,
      "outputs": [
        {
          "output_type": "stream",
          "name": "stdout",
          "text": [
            "    c0  c1  c2  c3  c4\n",
            "r0   1   4   7  10  13\n",
            "r1   2   5   8  11  14\n",
            "r2   3   6   9  12  15\n",
            "\n",
            "\n",
            "    c0  c1  c2  c3  c4\n",
            "r2   3   6   9  12  15\n",
            "r1   2   5   8  11  14\n",
            "r0   1   4   7  10  13\n"
          ]
        }
      ]
    },
    {
      "cell_type": "markdown",
      "source": [
        "series_to_number"
      ],
      "metadata": {
        "id": "7iwTREmF5WRg"
      }
    },
    {
      "cell_type": "code",
      "source": [
        "# 딕셔너리 데이터로 판다스 시리즈 만들기\n",
        "student1 = pd.Series({'국어':100, '영어':80, '수학':90})\n",
        "print(student1)\n",
        "print('\\n')\n",
        "\n",
        "# 학생의 과목별 점수를 200으로 나누기\n",
        "percentage = student1 / 200\n",
        "\n",
        "print(percentage)\n",
        "print('\\n')\n",
        "print(type(percentage))"
      ],
      "metadata": {
        "colab": {
          "base_uri": "https://localhost:8080/"
        },
        "id": "5Z54Fl6s5V_0",
        "outputId": "63e78d67-c39c-4af3-95c4-f0629a24bd24"
      },
      "execution_count": 32,
      "outputs": [
        {
          "output_type": "stream",
          "name": "stdout",
          "text": [
            "국어    100\n",
            "영어     80\n",
            "수학     90\n",
            "dtype: int64\n",
            "\n",
            "\n",
            "국어    0.50\n",
            "영어    0.40\n",
            "수학    0.45\n",
            "dtype: float64\n",
            "\n",
            "\n",
            "<class 'pandas.core.series.Series'>\n"
          ]
        }
      ]
    },
    {
      "cell_type": "markdown",
      "source": [
        "series_to_series"
      ],
      "metadata": {
        "id": "luW4kbmW5s_A"
      }
    },
    {
      "cell_type": "code",
      "source": [
        "\n",
        "# 딕셔너리 데이터로 판다스 시리즈 만들기\n",
        "student1 = pd.Series({'국어':100, '영어':80, '수학':90})\n",
        "student2 = pd.Series({'수학':80, '국어':90, '영어':80})\n",
        "\n",
        "print(student1)\n",
        "print('\\n')\n",
        "print(student2)\n",
        "print('\\n')\n",
        "\n",
        "# 두 학생의 과목별 점수로 사칙연산 수행\n",
        "addition = student1 + student2               #덧셈\n",
        "subtraction = student1 - student2            #뺄셈\n",
        "multiplication = student1 * student2         #곱셈\n",
        "division = student1 / student2               #나눗셈\n",
        "print(type(division))\n",
        "print('\\n')\n",
        "\n",
        "# 사칙연산 결과를 데이터프레임으로 합치기 (시리즈 -> 데이터프레임)\n",
        "result = pd.DataFrame([addition, subtraction, multiplication, division], \n",
        "                      index=['덧셈', '뺄셈', '곱셈', '나눗셈'])\n",
        "print(result)"
      ],
      "metadata": {
        "colab": {
          "base_uri": "https://localhost:8080/"
        },
        "id": "Po_62nBK5jk5",
        "outputId": "e85080af-b1d0-40e1-b9e4-dfe9fa408d64"
      },
      "execution_count": 33,
      "outputs": [
        {
          "output_type": "stream",
          "name": "stdout",
          "text": [
            "국어    100\n",
            "영어     80\n",
            "수학     90\n",
            "dtype: int64\n",
            "\n",
            "\n",
            "수학    80\n",
            "국어    90\n",
            "영어    80\n",
            "dtype: int64\n",
            "\n",
            "\n",
            "<class 'pandas.core.series.Series'>\n",
            "\n",
            "\n",
            "              국어        수학      영어\n",
            "덧셈    190.000000   170.000   160.0\n",
            "뺄셈     10.000000    10.000     0.0\n",
            "곱셈   9000.000000  7200.000  6400.0\n",
            "나눗셈     1.111111     1.125     1.0\n"
          ]
        }
      ]
    },
    {
      "cell_type": "markdown",
      "source": [
        "series_to_series2"
      ],
      "metadata": {
        "id": "iwqCMjnb5-MP"
      }
    },
    {
      "cell_type": "code",
      "source": [
        "import numpy as np\n",
        "\n",
        "# 딕셔너리 데이터로 판다스 시리즈 만들기\n",
        "student1 = pd.Series({'국어': np.nan, '영어':80, '수학':90})\n",
        "student2 = pd.Series({'수학':80, '국어':90})\n",
        "\n",
        "print(student1)\n",
        "print('\\n')\n",
        "print(student2)\n",
        "print('\\n')\n",
        "\n",
        "# 두 학생의 과목별 점수로 사칙연산 수행 (시리즈 vs. 시리즈)\n",
        "addition = student1 + student2               #덧셈\n",
        "subtraction = student1 - student2            #뺄셈\n",
        "multiplication = student1 * student2         #곱셈\n",
        "division = student1 / student2               #나눗셈\n",
        "print(type(division))\n",
        "print('\\n')\n",
        "\n",
        "# 사칙연산 결과를 데이터프레임으로 합치기 (시리즈 -> 데이터프레임)\n",
        "result = pd.DataFrame([addition, subtraction, multiplication, division], \n",
        "                      index=['덧셈', '뺄셈', '곱셈', '나눗셈'])\n",
        "print(result)"
      ],
      "metadata": {
        "colab": {
          "base_uri": "https://localhost:8080/"
        },
        "id": "8BO_naT15yQX",
        "outputId": "c71ca221-d05e-48f9-acf5-5cc1214a446e"
      },
      "execution_count": 35,
      "outputs": [
        {
          "output_type": "stream",
          "name": "stdout",
          "text": [
            "국어     NaN\n",
            "영어    80.0\n",
            "수학    90.0\n",
            "dtype: float64\n",
            "\n",
            "\n",
            "수학    80\n",
            "국어    90\n",
            "dtype: int64\n",
            "\n",
            "\n",
            "<class 'pandas.core.series.Series'>\n",
            "\n",
            "\n",
            "     국어        수학  영어\n",
            "덧셈  NaN   170.000 NaN\n",
            "뺄셈  NaN    10.000 NaN\n",
            "곱셈  NaN  7200.000 NaN\n",
            "나눗셈 NaN     1.125 NaN\n"
          ]
        }
      ]
    },
    {
      "cell_type": "markdown",
      "source": [
        "series_to_series3"
      ],
      "metadata": {
        "id": "djBG9sPa6FQX"
      }
    },
    {
      "cell_type": "code",
      "source": [
        "# 딕셔너리 데이터로 판다스 시리즈 만들기\n",
        "student1 = pd.Series({'국어':np.nan, '영어':80, '수학':90})\n",
        "student2 = pd.Series({'수학':80, '국어':90})\n",
        "\n",
        "print(student1)\n",
        "print('\\n')\n",
        "print(student2)\n",
        "print('\\n')\n",
        "\n",
        "# 두 학생의 과목별 점수로 사칙연산 수행 (연산 메소드 사용)\n",
        "sr_add = student1.add(student2, fill_value=0)    #덧셈\n",
        "sr_sub = student1.sub(student2, fill_value=0)    #뺄셈\n",
        "sr_mul = student1.mul(student2, fill_value=0)    #곱셈\n",
        "sr_div = student1.div(student2, fill_value=0)    #나눗셈\n",
        "\n",
        "# 사칙연산 결과를 데이터프레임으로 합치기 (시리즈 -> 데이터프레임)\n",
        "result = pd.DataFrame([sr_add, sr_sub, sr_mul, sr_div], \n",
        "                      index=['덧셈', '뺄셈', '곱셈', '나눗셈'])\n",
        "print(result)\n"
      ],
      "metadata": {
        "colab": {
          "base_uri": "https://localhost:8080/"
        },
        "id": "3q5UXUk56I1D",
        "outputId": "1959b028-75e2-406f-89f7-396b6a2bb245"
      },
      "execution_count": 36,
      "outputs": [
        {
          "output_type": "stream",
          "name": "stdout",
          "text": [
            "국어     NaN\n",
            "영어    80.0\n",
            "수학    90.0\n",
            "dtype: float64\n",
            "\n",
            "\n",
            "수학    80\n",
            "국어    90\n",
            "dtype: int64\n",
            "\n",
            "\n",
            "       국어        수학    영어\n",
            "덧셈   90.0   170.000  80.0\n",
            "뺄셈  -90.0    10.000  80.0\n",
            "곱셈    0.0  7200.000   0.0\n",
            "나눗셈   0.0     1.125   inf\n"
          ]
        }
      ]
    },
    {
      "cell_type": "markdown",
      "source": [
        "df_to_number"
      ],
      "metadata": {
        "id": "10SSjnHL6V9d"
      }
    },
    {
      "cell_type": "code",
      "source": [
        "import seaborn as sns\n",
        "\n",
        "# titanic 데이터셋에서 age, fare 2개 열을 선택하여 데이터프레임 만들기\n",
        "titanic = sns.load_dataset('titanic')\n",
        "df = titanic.loc[:, ['age','fare']]\n",
        "print(df.head())   #첫 5행만 표시\n",
        "print('\\n')\n",
        "print(type(df))\n",
        "print('\\n')\n",
        "\n",
        "# 데이터프레임에 숫자 10 더하기\n",
        "addition = df + 10\n",
        "print(addition.head())   #첫 5행만 표시\n",
        "print('\\n')\n",
        "print(type(addition))"
      ],
      "metadata": {
        "colab": {
          "base_uri": "https://localhost:8080/"
        },
        "id": "JWlzaJtV6PrS",
        "outputId": "f66a368e-f8ee-47f8-9da1-84f978fea49d"
      },
      "execution_count": 38,
      "outputs": [
        {
          "output_type": "stream",
          "name": "stdout",
          "text": [
            "    age     fare\n",
            "0  22.0   7.2500\n",
            "1  38.0  71.2833\n",
            "2  26.0   7.9250\n",
            "3  35.0  53.1000\n",
            "4  35.0   8.0500\n",
            "\n",
            "\n",
            "<class 'pandas.core.frame.DataFrame'>\n",
            "\n",
            "\n",
            "    age     fare\n",
            "0  32.0  17.2500\n",
            "1  48.0  81.2833\n",
            "2  36.0  17.9250\n",
            "3  45.0  63.1000\n",
            "4  45.0  18.0500\n",
            "\n",
            "\n",
            "<class 'pandas.core.frame.DataFrame'>\n"
          ]
        }
      ]
    },
    {
      "cell_type": "markdown",
      "source": [
        "df_to_df"
      ],
      "metadata": {
        "id": "pUI7iQpk6Z8H"
      }
    },
    {
      "cell_type": "code",
      "source": [
        "# titanic 데이터셋에서 age, fare 2개 열을 선택하여 데이터프레임 만들기\n",
        "titanic = sns.load_dataset('titanic')\n",
        "df = titanic.loc[:, ['age','fare']]\n",
        "print(df.tail())          #마지막 5행을 표시\n",
        "print('\\n')\n",
        "print(type(df))\n",
        "print('\\n')\n",
        "\n",
        "# 데이터프레임에 숫자 10 더하기\n",
        "addition = df + 10\n",
        "print(addition.tail())    #마지막 5행을 표시\n",
        "print('\\n')\n",
        "print(type(addition))\n",
        "print('\\n')\n",
        "\n",
        "# 데이터프레임끼리 연산하기 (additon - df)\n",
        "subtraction = addition - df\n",
        "print(subtraction.tail())   #마지막 5행을 표시\n",
        "print('\\n')\n",
        "print(type(subtraction))"
      ],
      "metadata": {
        "colab": {
          "base_uri": "https://localhost:8080/"
        },
        "id": "AbGAalVA6p0R",
        "outputId": "cd115fb9-685a-4c8e-d150-90ee1136ffa0"
      },
      "execution_count": 39,
      "outputs": [
        {
          "output_type": "stream",
          "name": "stdout",
          "text": [
            "      age   fare\n",
            "886  27.0  13.00\n",
            "887  19.0  30.00\n",
            "888   NaN  23.45\n",
            "889  26.0  30.00\n",
            "890  32.0   7.75\n",
            "\n",
            "\n",
            "<class 'pandas.core.frame.DataFrame'>\n",
            "\n",
            "\n",
            "      age   fare\n",
            "886  37.0  23.00\n",
            "887  29.0  40.00\n",
            "888   NaN  33.45\n",
            "889  36.0  40.00\n",
            "890  42.0  17.75\n",
            "\n",
            "\n",
            "<class 'pandas.core.frame.DataFrame'>\n",
            "\n",
            "\n",
            "      age  fare\n",
            "886  10.0  10.0\n",
            "887  10.0  10.0\n",
            "888   NaN  10.0\n",
            "889  10.0  10.0\n",
            "890  10.0  10.0\n",
            "\n",
            "\n",
            "<class 'pandas.core.frame.DataFrame'>\n"
          ]
        }
      ]
    }
  ]
}