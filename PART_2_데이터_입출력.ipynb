{
  "nbformat": 4,
  "nbformat_minor": 0,
  "metadata": {
    "colab": {
      "provenance": [],
      "authorship_tag": "ABX9TyNXMX28LBXF0JsEqlWEtg3a"
    },
    "kernelspec": {
      "name": "python3",
      "display_name": "Python 3"
    },
    "language_info": {
      "name": "python"
    }
  },
  "cells": [
    {
      "cell_type": "code",
      "source": [
        "from google.colab import drive\n",
        "drive.mount('/content/drive')"
      ],
      "metadata": {
        "colab": {
          "base_uri": "https://localhost:8080/"
        },
        "id": "EKmCzPCIFl1E",
        "outputId": "3eeafd3a-4e75-487a-8ef1-bc164a5dd398"
      },
      "execution_count": 2,
      "outputs": [
        {
          "output_type": "stream",
          "name": "stdout",
          "text": [
            "Mounted at /content/drive\n"
          ]
        }
      ]
    },
    {
      "cell_type": "markdown",
      "source": [
        "**read_csv**"
      ],
      "metadata": {
        "id": "el9Bv_uCHrZT"
      }
    },
    {
      "cell_type": "code",
      "execution_count": 4,
      "metadata": {
        "colab": {
          "base_uri": "https://localhost:8080/"
        },
        "id": "nmZDPtGX-itp",
        "outputId": "ab316125-792d-485b-ab3a-cbdd41146650"
      },
      "outputs": [
        {
          "output_type": "stream",
          "name": "stdout",
          "text": [
            "   c0  c1  c2  c3\n",
            "0   0   1   4   7\n",
            "1   1   2   5   8\n",
            "2   2   3   6   9\n",
            "\n",
            "\n",
            "    0   1   2   3\n",
            "0  c0  c1  c2  c3\n",
            "1   0   1   4   7\n",
            "2   1   2   5   8\n",
            "3   2   3   6   9\n",
            "\n",
            "\n",
            "   c0  c1  c2  c3\n",
            "0   0   1   4   7\n",
            "1   1   2   5   8\n",
            "2   2   3   6   9\n",
            "\n",
            "\n",
            "    c1  c2  c3\n",
            "c0            \n",
            "0    1   4   7\n",
            "1    2   5   8\n",
            "2    3   6   9\n"
          ]
        }
      ],
      "source": [
        "# 라이브러리 불러오기\n",
        "import pandas as pd\n",
        "\n",
        "# 파일경로를 찾고, 변수 file_path에 저장\n",
        "file_path = '/content/drive/MyDrive/Colab Notebooks/파이썬, 머신러닝, 판다스 데이터 분석(정보문화사)/read_csv_sample.csv'\n",
        "\n",
        "# read_csv() 함수로 데이터프레임 변환. 변수 df1에 저장\n",
        "df1 = pd.read_csv(file_path)\n",
        "print(df1)\n",
        "print('\\n')\n",
        "\n",
        "# read_csv() 함수로 데이터프레임 변환. 변수 df2에 저장. header=None 옵션\n",
        "df2 = pd.read_csv(file_path, header=None)\n",
        "print(df2)\n",
        "print('\\n')\n",
        "\n",
        "# read_csv() 함수로 데이터프레임 변환. 변수 df3에 저장. index_col=None 옵션\n",
        "df3 = pd.read_csv(file_path, index_col=None)\n",
        "print(df3)\n",
        "print('\\n')\n",
        "\n",
        "# read_csv() 함수로 데이터프레임 변환. 변수 df4에 저장. index_col='c0' 옵션\n",
        "df4 = pd.read_csv(file_path, index_col='c0')\n",
        "print(df4)"
      ]
    },
    {
      "cell_type": "markdown",
      "source": [
        "**read_excel**"
      ],
      "metadata": {
        "id": "XCAz1AI_IBM4"
      }
    },
    {
      "cell_type": "code",
      "source": [
        "# read_excel() 함수로 데이터프레임 변환 \n",
        "df1 = pd.read_excel('/content/drive/MyDrive/Colab Notebooks/파이썬, 머신러닝, 판다스 데이터 분석(정보문화사)/남북한발전전력량.xlsx', engine='openpyxl')   # header=0 (default 옵션)\n",
        "df2 = pd.read_excel('/content/drive/MyDrive/Colab Notebooks/파이썬, 머신러닝, 판다스 데이터 분석(정보문화사)/남북한발전전력량.xlsx', engine='openpyxl', header=None)  # header=None 옵션\n",
        "\n",
        "# 데이터프레임 출력\n",
        "print(df1)\n",
        "print('\\n')\n",
        "print(df2)"
      ],
      "metadata": {
        "colab": {
          "base_uri": "https://localhost:8080/"
        },
        "id": "-NkK8sSjHSBu",
        "outputId": "45c96f62-c3dd-446d-b664-e884c391252b"
      },
      "execution_count": 5,
      "outputs": [
        {
          "output_type": "stream",
          "name": "stdout",
          "text": [
            "  전력량 (억㎾h) 발전 전력별  1990  1991  1992  1993  1994  1995  1996  1997  ...  2007  \\\n",
            "0        남한     합계  1077  1186  1310  1444  1650  1847  2055  2244  ...  4031   \n",
            "1       NaN     수력    64    51    49    60    41    55    52    54  ...    50   \n",
            "2       NaN     화력   484   573   696   803  1022  1122  1264  1420  ...  2551   \n",
            "3       NaN    원자력   529   563   565   581   587   670   739   771  ...  1429   \n",
            "4       NaN    신재생     -     -     -     -     -     -     -     -  ...     -   \n",
            "5        북한     합계   277   263   247   221   231   230   213   193  ...   236   \n",
            "6       NaN     수력   156   150   142   133   138   142   125   107  ...   133   \n",
            "7       NaN     화력   121   113   105    88    93    88    88    86  ...   103   \n",
            "8       NaN    원자력     -     -     -     -     -     -     -     -  ...     -   \n",
            "\n",
            "   2008  2009  2010  2011  2012  2013  2014  2015  2016  \n",
            "0  4224  4336  4747  4969  5096  5171  5220  5281  5404  \n",
            "1    56    56    65    78    77    84    78    58    66  \n",
            "2  2658  2802  3196  3343  3430  3581  3427  3402  3523  \n",
            "3  1510  1478  1486  1547  1503  1388  1564  1648  1620  \n",
            "4     -     -     -     -    86   118   151   173   195  \n",
            "5   255   235   237   211   215   221   216   190   239  \n",
            "6   141   125   134   132   135   139   130   100   128  \n",
            "7   114   110   103    79    80    82    86    90   111  \n",
            "8     -     -     -     -     -     -     -     -     -  \n",
            "\n",
            "[9 rows x 29 columns]\n",
            "\n",
            "\n",
            "          0       1     2     3     4     5     6     7     8     9   ...  \\\n",
            "0  전력량 (억㎾h)  발전 전력별  1990  1991  1992  1993  1994  1995  1996  1997  ...   \n",
            "1         남한      합계  1077  1186  1310  1444  1650  1847  2055  2244  ...   \n",
            "2        NaN      수력    64    51    49    60    41    55    52    54  ...   \n",
            "3        NaN      화력   484   573   696   803  1022  1122  1264  1420  ...   \n",
            "4        NaN     원자력   529   563   565   581   587   670   739   771  ...   \n",
            "5        NaN     신재생     -     -     -     -     -     -     -     -  ...   \n",
            "6         북한      합계   277   263   247   221   231   230   213   193  ...   \n",
            "7        NaN      수력   156   150   142   133   138   142   125   107  ...   \n",
            "8        NaN      화력   121   113   105    88    93    88    88    86  ...   \n",
            "9        NaN     원자력     -     -     -     -     -     -     -     -  ...   \n",
            "\n",
            "     19    20    21    22    23    24    25    26    27    28  \n",
            "0  2007  2008  2009  2010  2011  2012  2013  2014  2015  2016  \n",
            "1  4031  4224  4336  4747  4969  5096  5171  5220  5281  5404  \n",
            "2    50    56    56    65    78    77    84    78    58    66  \n",
            "3  2551  2658  2802  3196  3343  3430  3581  3427  3402  3523  \n",
            "4  1429  1510  1478  1486  1547  1503  1388  1564  1648  1620  \n",
            "5     -     -     -     -     -    86   118   151   173   195  \n",
            "6   236   255   235   237   211   215   221   216   190   239  \n",
            "7   133   141   125   134   132   135   139   130   100   128  \n",
            "8   103   114   110   103    79    80    82    86    90   111  \n",
            "9     -     -     -     -     -     -     -     -     -     -  \n",
            "\n",
            "[10 rows x 29 columns]\n"
          ]
        }
      ]
    },
    {
      "cell_type": "markdown",
      "source": [
        "**read_json**\n",
        "\n",
        "**데이터 공유를 목적으로 개발된 특수한 파일 형식이다. 파이썬 딕셔너리와 비슷하게 key, value 구조를 갖는데, 구조가 중첩되는 방식에 따라 다르게 적용한다."
      ],
      "metadata": {
        "id": "BjYdTYKoIsqq"
      }
    },
    {
      "cell_type": "code",
      "source": [
        "# read_json() 함수로 데이터프레임 변환 \n",
        "df = pd.read_json('/content/drive/MyDrive/Colab Notebooks/파이썬, 머신러닝, 판다스 데이터 분석(정보문화사)/read_json_sample.json')  \n",
        "print(df)\n",
        "print('\\n')\n",
        "print(df.index)"
      ],
      "metadata": {
        "colab": {
          "base_uri": "https://localhost:8080/"
        },
        "id": "ak9A0d9hIsBm",
        "outputId": "50cc0c9c-a219-416a-ad76-97300ebfe55a"
      },
      "execution_count": 6,
      "outputs": [
        {
          "output_type": "stream",
          "name": "stdout",
          "text": [
            "           name  year        developer opensource\n",
            "pandas           2008    Wes Mckinneye       True\n",
            "NumPy            2006  Travis Oliphant       True\n",
            "matplotlib       2003   John D. Hunter       True\n",
            "\n",
            "\n",
            "Index(['pandas', 'NumPy', 'matplotlib'], dtype='object')\n"
          ]
        }
      ]
    },
    {
      "cell_type": "markdown",
      "source": [
        "**read_html**"
      ],
      "metadata": {
        "id": "WEUAonH_ODlF"
      }
    },
    {
      "cell_type": "code",
      "source": [
        "# HTML 파일 경로 or 웹 페이지 주소를 url 변수에 저장\n",
        "url ='./sample.html'\n",
        "\n",
        "# HTML 웹페이지의 표(table)를 가져와서 데이터프레임으로 변환 \n",
        "tables = pd.read_html(url)\n",
        "\n",
        "# 표(table)의 개수 확인\n",
        "print(len(tables))\n",
        "print('\\n')\n",
        "\n",
        "# tables 리스트의 원소를 iteration하면서 각각 화면 출력\n",
        "for i in range(len(tables)):\n",
        "    print(\"tables[%s]\" % i)\n",
        "    print(tables[i])\n",
        "    print('\\n')\n",
        "\n",
        "# 파이썬 패키지 정보가 들어 있는 두 번째 데이터프레임을 선택하여 df 변수에 저장\n",
        "df = tables[1] \n",
        "\n",
        "# 'name' 열을 인덱스로 지정\n",
        "df.set_index(['name'], inplace=True)\n",
        "print(df)"
      ],
      "metadata": {
        "id": "FfyYt7RCOCmw"
      },
      "execution_count": null,
      "outputs": []
    },
    {
      "cell_type": "markdown",
      "source": [
        "**us_etf_list**"
      ],
      "metadata": {
        "id": "tZWFCaMmVAXk"
      }
    },
    {
      "cell_type": "code",
      "source": [
        "# 위키피디아 미국 ETF 웹 페이지에서 필요한 정보를 스크래핑하여 딕셔너리 형태로 변수 etfs에 저장\n",
        "url = \"https://en.wikipedia.org/wiki/List_of_American_exchange-traded_funds\"\n",
        "resp = requests.get(url)\n",
        "soup = BeautifulSoup(resp.text, 'lxml')   \n",
        "rows = soup.select('div > ul > li')\n",
        "    \n",
        "etfs = {}\n",
        "for row in rows:\n",
        "    \n",
        "    try:\n",
        "        etf_name = re.findall('^(.*) \\(NYSE', row.text)\n",
        "        etf_market = re.findall('\\((.*)\\|', row.text)\n",
        "        etf_ticker = re.findall('NYSE Arca\\|(.*)\\)', row.text)\n",
        "        \n",
        "        if (len(etf_ticker) > 0) & (len(etf_market) > 0) & (len(etf_name) > 0):\n",
        "            etfs[etf_ticker[0]] = [etf_market[0], etf_name[0]]\n",
        "\n",
        "    except AttributeError as err:\n",
        "        pass    \n",
        "\n",
        "# etfs 딕셔너리 출력\n",
        "print(etfs)\n",
        "print('\\n')\n",
        "\n",
        "# etfs 딕셔너리를 데이터프레임으로 변환\n",
        "df = pd.DataFrame(etfs)\n",
        "print(df)"
      ],
      "metadata": {
        "id": "bn3vWxSDQAou"
      },
      "execution_count": null,
      "outputs": []
    },
    {
      "cell_type": "markdown",
      "source": [
        "**geocoding_api"
      ],
      "metadata": {
        "id": "AM-BSaSBVHI9"
      }
    },
    {
      "cell_type": "code",
      "source": [
        "# my_key = \"----발급받은 API 키를 입력-----\"\n",
        "\n",
        "# 구글맵스 객체 생성하기\n",
        "maps = googlemaps.Client(key=my_key)  # my key값 입력\n",
        "\n",
        "lat = []  #위도\n",
        "lng = []  #경도\n",
        "\n",
        "# 장소(또는 주소) 리스트\n",
        "places = [\"서울시청\", \"국립국악원\", \"해운대해수욕장\"]\n",
        "\n",
        "i=0\n",
        "for place in places:   \n",
        "    i = i + 1\n",
        "    try:\n",
        "        print(i, place)\n",
        "        # 지오코딩 API 결과값 호출하여 geo_location 변수에 저장\n",
        "        geo_location = maps.geocode(place)[0].get('geometry')\n",
        "        lat.append(geo_location['location']['lat'])\n",
        "        lng.append(geo_location['location']['lng'])\n",
        "        \n",
        "    except:\n",
        "        lat.append('')\n",
        "        lng.append('')\n",
        "        print(i)\n",
        "\n",
        "# 데이터프레임으로 변환하기\n",
        "df = pd.DataFrame({'위도':lat, '경도':lng}, index=places)\n",
        "print('\\n')\n",
        "print(df)"
      ],
      "metadata": {
        "id": "Atdtm2NiVN1h"
      },
      "execution_count": null,
      "outputs": []
    },
    {
      "cell_type": "markdown",
      "source": [
        "**to_csv**"
      ],
      "metadata": {
        "id": "5HoQ_8VvWDer"
      }
    },
    {
      "cell_type": "code",
      "source": [
        "# 판다스 DataFrame() 함수로 데이터프레임 변환. 변수 df에 저장 \n",
        "data = {'name' : [ 'Jerry', 'Riah', 'Paul'],\n",
        "        'algol' : [ \"A\", \"A+\", \"B\"],\n",
        "        'basic' : [ \"C\", \"B\", \"B+\"],\n",
        "        'c++' : [ \"B+\", \"C\", \"C+\"],\n",
        "        }\n",
        "\n",
        "df = pd.DataFrame(data)\n",
        "df.set_index('name', inplace=True)   #name 열을 인덱스로 지정\n",
        "print(df)\n",
        "\n",
        "# to_csv() 메소드를 사용하여 CSV 파일로 내보내기. 파열명은 df_sample.csv로 저장\n",
        "df.to_csv(\"./df_sample.csv\")"
      ],
      "metadata": {
        "id": "OJ3ejIHQWK4_"
      },
      "execution_count": null,
      "outputs": []
    },
    {
      "cell_type": "markdown",
      "source": [
        "to_jason"
      ],
      "metadata": {
        "id": "iAYrr1aMWPIl"
      }
    },
    {
      "cell_type": "code",
      "source": [
        "# 판다스 DataFrame() 함수로 데이터프레임 변환. 변수 df에 저장 \n",
        "data = {'name' : [ 'Jerry', 'Riah', 'Paul'],\n",
        "        'algol' : [ \"A\", \"A+\", \"B\"],\n",
        "        'basic' : [ \"C\", \"B\", \"B+\"],\n",
        "        'c++' : [ \"B+\", \"C\", \"C+\"],\n",
        "        }\n",
        "\n",
        "df = pd.DataFrame(data)\n",
        "df.set_index('name', inplace=True)   #name 열을 인덱스로 지정\n",
        "print(df)\n",
        "\n",
        "# to_json() 메소드를 사용하여 JSON 파일로 내보내기. 파열명은 df_sample.json로 저장\n",
        "df.to_json(\"./df_sample.json\")"
      ],
      "metadata": {
        "id": "-0XpVwkEWT_K"
      },
      "execution_count": null,
      "outputs": []
    },
    {
      "cell_type": "markdown",
      "source": [
        "to_excel"
      ],
      "metadata": {
        "id": "FYoO67HZWWpr"
      }
    },
    {
      "cell_type": "code",
      "source": [
        "# 판다스 DataFrame() 함수로 데이터프레임 변환. 변수 df에 저장 \n",
        "data = {'name' : [ 'Jerry', 'Riah', 'Paul'],\n",
        "        'algol' : [ \"A\", \"A+\", \"B\"],\n",
        "        'basic' : [ \"C\", \"B\", \"B+\"],\n",
        "        'c++' : [ \"B+\", \"C\", \"C+\"],\n",
        "        }\n",
        "\n",
        "df = pd.DataFrame(data)\n",
        "df.set_index('name', inplace=True)   #name 열을 인덱스로 지정\n",
        "print(df)\n",
        "\n",
        "# to_excel() 메소드를 사용하여 엑셀 파일로 내보내기. 파열명은 df_sample.xlsx로 저장\n",
        "df.to_excel(\"./df_sample.xlsx\")"
      ],
      "metadata": {
        "id": "GR6D5PhMWYuq"
      },
      "execution_count": null,
      "outputs": []
    },
    {
      "cell_type": "markdown",
      "source": [
        "to_excelwriter"
      ],
      "metadata": {
        "id": "WNXm28vPWedR"
      }
    },
    {
      "cell_type": "code",
      "source": [
        "# 판다스 DataFrame() 함수로 데이터프레임 변환. 변수 df1, df2에 저장 \n",
        "data1 = {'name' : [ 'Jerry', 'Riah', 'Paul'],\n",
        "         'algol' : [ \"A\", \"A+\", \"B\"],\n",
        "         'basic' : [ \"C\", \"B\", \"B+\"],\n",
        "          'c++' : [ \"B+\", \"C\", \"C+\"]}\n",
        "\n",
        "data2 = {'c0':[1,2,3], \n",
        "         'c1':[4,5,6], \n",
        "         'c2':[7,8,9], \n",
        "         'c3':[10,11,12], \n",
        "         'c4':[13,14,15]}\n",
        "\n",
        "df1 = pd.DataFrame(data1)\n",
        "df1.set_index('name', inplace=True)      #name 열을 인덱스로 지정\n",
        "print(df1)\n",
        "print('\\n')\n",
        "\n",
        "df2 = pd.DataFrame(data2)\n",
        "df2.set_index('c0', inplace=True)        #c0 열을 인덱스로 지정\n",
        "print(df2)\n",
        "\n",
        "# df1을 'sheet1'으로, df2를 'sheet2'로 저장 (엑셀파일명은 \"df_excelwriter.xlsx\")\n",
        "writer = pd.ExcelWriter(\"./df_excelwriter.xlsx\")\n",
        "df1.to_excel(writer, sheet_name=\"sheet1\")\n",
        "df2.to_excel(writer, sheet_name=\"sheet2\")\n",
        "writer.save()"
      ],
      "metadata": {
        "id": "ojcGnloHWh4D"
      },
      "execution_count": null,
      "outputs": []
    }
  ]
}